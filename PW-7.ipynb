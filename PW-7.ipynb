{
 "cells": [
  {
   "cell_type": "code",
   "execution_count": 6,
   "metadata": {
    "dotnet_interactive": {
     "language": "csharp"
    },
    "polyglot_notebook": {
     "kernelName": "csharp"
    }
   },
   "outputs": [],
   "source": [
    "using System;\n",
    "using System.Collections.Concurrent;\n",
    "using System.Threading;\n",
    "\n",
    "public interface ICommand\n",
    "{\n",
    "    void Execute();\n",
    "}\n",
    "\n",
    "public class ServerThread\n",
    "{\n",
    "    private ConcurrentQueue<ICommand> commandQueue = new ConcurrentQueue<ICommand>();\n",
    "    private Thread thread;\n",
    "    private bool isRunning = true;\n",
    "    private bool isSoftStopping = false;\n",
    "    private bool isHardStopping = false;\n",
    "\n",
    "    public ServerThread()\n",
    "    {\n",
    "        thread = new Thread(Run);\n",
    "        thread.Start();\n",
    "    }\n",
    "\n",
    "    public void AddCommand(ICommand command)\n",
    "    {\n",
    "        commandQueue.Enqueue(command);\n",
    "    }\n",
    "\n",
    "    private void Run()\n",
    "{\n",
    "    while (isRunning)\n",
    "    {\n",
    "        if (commandQueue.TryDequeue(out ICommand command))\n",
    "        {\n",
    "            if (!isSoftStopping && !isHardStopping)\n",
    "            {\n",
    "                try\n",
    "                {\n",
    "                    command.Execute();\n",
    "                }\n",
    "                catch (Exception ex)\n",
    "                {\n",
    "                    // Обработка исключения\n",
    "                    Console.WriteLine($\"Исключение в команде: {ex.Message}\");\n",
    "                }\n",
    "            }\n",
    "        }\n",
    "        else if (isSoftStopping)\n",
    "        {\n",
    "            isRunning = false;\n",
    "        }\n",
    "        else\n",
    "        {\n",
    "            Thread.Sleep(1);\n",
    "        }\n",
    "    }\n",
    "}\n",
    "\n",
    "    public void SoftStop()\n",
    "    {\n",
    "        if (Thread.CurrentThread != thread)\n",
    "        {\n",
    "            throw new InvalidOperationException(\"Команда SoftStop может выполняться только в том же потоке.\");\n",
    "        }\n",
    "\n",
    "        isSoftStopping = true;\n",
    "    }\n",
    "\n",
    "    public void HardStop()\n",
    "    {\n",
    "        if (Thread.CurrentThread != thread)\n",
    "        {\n",
    "            throw new InvalidOperationException(\"Команда HardStop может выполняться только в том же потоке.\");\n",
    "        }\n",
    "\n",
    "        isRunning = false;\n",
    "        thread.Abort();\n",
    "    }\n",
    "}\n",
    "\n",
    "public class HardStopCommand : ICommand\n",
    "{\n",
    "    private ServerThread serverThread;\n",
    "\n",
    "    public HardStopCommand(ServerThread serverThread)\n",
    "    {\n",
    "        this.serverThread = serverThread;\n",
    "    }\n",
    "\n",
    "    public void Execute()\n",
    "    {\n",
    "        serverThread.HardStop();\n",
    "    }\n",
    "}\n",
    "\n",
    "public class SoftStopCommand : ICommand\n",
    "{\n",
    "    private ServerThread serverThread;\n",
    "\n",
    "    public SoftStopCommand(ServerThread serverThread)\n",
    "    {\n",
    "        this.serverThread = serverThread;\n",
    "    }\n",
    "\n",
    "    public void Execute()\n",
    "    {\n",
    "        serverThread.SoftStop();\n",
    "    }\n",
    "}\n",
    "\n",
    "public class CommandWrapper : ICommand\n",
    "{\n",
    "    private Action action;\n",
    "\n",
    "    public CommandWrapper(Action action)\n",
    "    {\n",
    "        this.action = action;\n",
    "    }\n",
    "\n",
    "    public void Execute()\n",
    "    {\n",
    "        action();\n",
    "    }\n",
    "}\n"
   ]
  },
  {
   "cell_type": "code",
   "execution_count": 7,
   "metadata": {
    "dotnet_interactive": {
     "language": "csharp"
    },
    "polyglot_notebook": {
     "kernelName": "csharp"
    }
   },
   "outputs": [
    {
     "name": "stdout",
     "output_type": "stream",
     "text": [
      "Команда номер 1\n",
      "Команда номер 2\n",
      "Основной поток завершается.\n"
     ]
    }
   ],
   "source": [
    "var serverThread = new ServerThread();\n",
    "        serverThread.AddCommand(new CommandWrapper(() => Console.WriteLine(\"Команда номер 1\")));\n",
    "        serverThread.AddCommand(new CommandWrapper(() => Console.WriteLine(\"Команда номер 2\")));\n",
    "        serverThread.AddCommand(new SoftStopCommand(serverThread));\n",
    "        serverThread.AddCommand(new CommandWrapper(() => Console.WriteLine(\"Команда номер 3\"))); // Эта команда не доджна быть выполнена\n",
    "        Thread.Sleep(1000); // Даем потоку авремя на обработку команд\n",
    "        Console.WriteLine(\"Основной поток завершается.\");"
   ]
  }
 ],
 "metadata": {
  "kernelspec": {
   "display_name": ".NET (C#)",
   "language": "C#",
   "name": ".net-csharp"
  },
  "polyglot_notebook": {
   "kernelInfo": {
    "defaultKernelName": "csharp",
    "items": [
     {
      "aliases": [],
      "languageName": "csharp",
      "name": "csharp"
     }
    ]
   }
  }
 },
 "nbformat": 4,
 "nbformat_minor": 2
}
