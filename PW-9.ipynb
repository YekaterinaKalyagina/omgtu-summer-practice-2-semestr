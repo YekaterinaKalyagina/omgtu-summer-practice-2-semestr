{
 "cells": [
  {
   "cell_type": "code",
   "execution_count": 5,
   "metadata": {
    "dotnet_interactive": {
     "language": "csharp"
    },
    "polyglot_notebook": {
     "kernelName": "csharp"
    }
   },
   "outputs": [],
   "source": [
    "using System.Collections.Generic;\n",
    "using System.Threading;\n",
    "using System.Threading.Tasks;\n",
    "\n",
    "interface ICommand\n",
    "{\n",
    "    void Execute();\n",
    "}\n",
    "\n",
    "public class TestCommand : ICommand\n",
    "{\n",
    "    private readonly int id;\n",
    "    private int counter = 0;\n",
    "\n",
    "    public TestCommand(int id)\n",
    "    {\n",
    "        this.id = id;\n",
    "    }\n",
    "\n",
    "    public void Execute()\n",
    "    {\n",
    "        Console.WriteLine($\"Поток {id} вызов {++counter}\");\n",
    "    }\n",
    "}\n",
    "\n"
   ]
  },
  {
   "cell_type": "code",
   "execution_count": 7,
   "metadata": {},
   "outputs": [
    {
     "name": "stdout",
     "output_type": "stream",
     "text": [
      "Поток 1 вызов 1\n",
      "Поток 2 вызов 1\n",
      "Поток 3 вызов 1\n",
      "Поток 4 вызов 1\n",
      "Поток 5 вызов 1\n",
      "--- Execution round 1 ---\n",
      "Поток 1 вызов 2\n",
      "Поток 2 вызов 2\n",
      "Поток 3 вызов 2\n",
      "Поток 4 вызов 2\n",
      "Поток 5 вызов 2\n",
      "--- Execution round 2 ---\n",
      "Поток 1 вызов 4\n",
      "Поток 2 вызов 3\n",
      "Поток 1 вызов 3\n",
      "Поток 3 вызов 3\n",
      "Поток 4 вызов 3\n",
      "Поток 5 вызов 3\n",
      "Поток 2 вызов 4\n",
      "Поток 3 вызов 4\n",
      "Поток 4 вызов 4\n",
      "Поток 5 вызов 4\n",
      "--- Execution round 3 ---\n",
      "Поток 1 вызов 6\n",
      "Поток 1 вызов 5\n",
      "Поток 2 вызов 6\n",
      "Поток 3 вызов 5\n",
      "Поток 4 вызов 5\n",
      "Поток 5 вызов 5\n",
      "Поток 2 вызов 5\n",
      "Поток 3 вызов 6\n",
      "Поток 4 вызов 6\n",
      "Поток 5 вызов 6\n",
      "Hard stopping...\n",
      "Поток 1 вызов 7\n",
      "Поток 2 вызов 7\n",
      "Поток 3 вызов 7\n",
      "Поток 4 вызов 7\n",
      "Поток 5 вызов 7\n",
      "Execution was hard stopped.\n"
     ]
    }
   ],
   "source": [
    "\n",
    "        List<ICommand> commands = new List<ICommand>();\n",
    "        for (int i = 0; i < 5; i++)\n",
    "        {\n",
    "            commands.Add(new TestCommand(i + 1));\n",
    "        }\n",
    "\n",
    "        using (CancellationTokenSource cts = new CancellationTokenSource())\n",
    "        {\n",
    "            Task executionTask = ExecuteCommands(commands, cts.Token);\n",
    "\n",
    "            //запускаем команды 3 раза\n",
    "            for (int i = 0; i < 3; i++)\n",
    "            {\n",
    "                Console.WriteLine($\"--- Execution round {i + 1} ---\");\n",
    "                foreach (var command in commands)\n",
    "                {\n",
    "                    command.Execute();\n",
    "                }\n",
    "\n",
    "                //симуляция задержки между выполнениями\n",
    "                await Task.Delay(1000);\n",
    "            }\n",
    "\n",
    "            //симуляция прерывания\n",
    "            Console.WriteLine(\"Hard stopping...\");\n",
    "            cts.Cancel();\n",
    "\n",
    "            try\n",
    "            {\n",
    "                await executionTask;\n",
    "            }\n",
    "            catch (OperationCanceledException)\n",
    "            {\n",
    "                Console.WriteLine(\"Execution was hard stopped.\");\n",
    "            }\n",
    "        }\n",
    "\n",
    "\n",
    "    static async Task ExecuteCommands(List<ICommand> commands, CancellationToken token)\n",
    "    {\n",
    "        while (!token.IsCancellationRequested)\n",
    "        {\n",
    "            foreach (var command in commands)\n",
    "            {\n",
    "                command.Execute();\n",
    "            }\n",
    "\n",
    "           //симуляция задержки\n",
    "            await Task.Delay(1000, token);\n",
    "        }\n",
    "    }\n",
    "\n"
   ]
  }
 ],
 "metadata": {
  "kernelspec": {
   "display_name": ".NET (C#)",
   "language": "C#",
   "name": ".net-csharp"
  },
  "polyglot_notebook": {
   "kernelInfo": {
    "defaultKernelName": "csharp",
    "items": [
     {
      "aliases": [],
      "languageName": "csharp",
      "name": "csharp"
     }
    ]
   }
  }
 },
 "nbformat": 4,
 "nbformat_minor": 2
}
