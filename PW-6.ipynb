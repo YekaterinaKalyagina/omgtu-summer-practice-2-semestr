{
 "cells": [
  {
   "cell_type": "code",
   "execution_count": 2,
   "metadata": {
    "dotnet_interactive": {
     "language": "csharp"
    },
    "polyglot_notebook": {
     "kernelName": "csharp"
    }
   },
   "outputs": [
    {
     "data": {
      "text/html": [
       "<div><div></div><div></div><div><strong>Installed Packages</strong><ul><li><span>ScottPlot, 5.0.35</span></li><li><span>xunit, 2.8.1</span></li></ul></div></div>"
      ]
     },
     "metadata": {},
     "output_type": "display_data"
    },
    {
     "data": {
      "text/plain": [
       "Loading extensions from `C:\\Users\\yekat\\.nuget\\packages\\skiasharp\\2.88.8\\interactive-extensions\\dotnet\\SkiaSharp.DotNet.Interactive.dll`"
      ]
     },
     "metadata": {},
     "output_type": "display_data"
    }
   ],
   "source": [
    "#r \"nuget: xunit, 2.8.1\"\n",
    "#r \"nuget:ScottPlot, 5.0.35\"\n",
    "\n",
    "using Xunit;\n",
    "using Microsoft.DotNet.Interactive.Formatting;\n",
    "using System;\n",
    "using System.Collections.Concurrent;\n",
    "using System.Collections.Generic;\n",
    "using System.Diagnostics;\n",
    "using System.Linq;\n",
    "using System.Threading;\n",
    "using ScottPlot;\n",
    "Formatter.Register(typeof(ScottPlot.Plot), (p, w) => \n",
    "    w.Write(((ScottPlot.Plot)p).GetImageHtml(600, 600)), HtmlFormatter.MimeType);"
   ]
  },
  {
   "cell_type": "code",
   "execution_count": 3,
   "metadata": {},
   "outputs": [],
   "source": [
    "static double MeasureBlockingCollection(int itemCount)\n",
    "    {\n",
    "        var collection = new BlockingCollection<int>();\n",
    "        var stopwatch = new Stopwatch();\n",
    "        var startEvent = new ManualResetEvent(false);\n",
    "        var endEvent = new ManualResetEvent(false);\n",
    "\n",
    "        var producer = new Thread(() =>\n",
    "        {\n",
    "            startEvent.WaitOne();\n",
    "            for (int i = 0; i < itemCount; i++)\n",
    "            {\n",
    "                collection.Add(i);\n",
    "            }\n",
    "            collection.CompleteAdding();\n",
    "        });\n",
    "\n",
    "        var consumer = new Thread(() =>\n",
    "        {\n",
    "            startEvent.WaitOne();\n",
    "            foreach (var item in collection.GetConsumingEnumerable())\n",
    "            {\n",
    "                \n",
    "            }\n",
    "            endEvent.Set();\n",
    "        });\n",
    "\n",
    "        producer.Start();\n",
    "        consumer.Start();\n",
    "\n",
    "        startEvent.Set();\n",
    "        stopwatch.Start();\n",
    "\n",
    "        endEvent.WaitOne();\n",
    "        stopwatch.Stop();\n",
    "\n",
    "        return stopwatch.Elapsed.TotalMilliseconds;\n",
    "    }\n"
   ]
  },
  {
   "cell_type": "code",
   "execution_count": 4,
   "metadata": {},
   "outputs": [],
   "source": [
    "static double MeasureConcurrentQueue(int itemCount)\n",
    "    {\n",
    "        var queue = new ConcurrentQueue<int>();\n",
    "        var stopwatch = new Stopwatch();\n",
    "        var startEvent = new ManualResetEvent(false);\n",
    "        var endEvent = new ManualResetEvent(false);\n",
    "\n",
    "        var producer = new Thread(() =>\n",
    "        {\n",
    "            startEvent.WaitOne();\n",
    "            for (int i = 0; i < itemCount; i++)\n",
    "            {\n",
    "                queue.Enqueue(i);\n",
    "            }\n",
    "        });\n",
    "\n",
    "        var consumer = new Thread(() =>\n",
    "        {\n",
    "            startEvent.WaitOne();\n",
    "            int item;\n",
    "            for (int i = 0; i < itemCount; i++)\n",
    "            {\n",
    "                while (!queue.TryDequeue(out item))\n",
    "                {\n",
    "                    Thread.SpinWait(1);\n",
    "                }\n",
    "            }\n",
    "            endEvent.Set();\n",
    "        });\n",
    "\n",
    "        producer.Start();\n",
    "        consumer.Start();\n",
    "\n",
    "        startEvent.Set();\n",
    "        stopwatch.Start();\n",
    "\n",
    "        endEvent.WaitOne();\n",
    "        stopwatch.Stop();\n",
    "\n",
    "        return stopwatch.Elapsed.TotalMilliseconds;\n",
    "    }"
   ]
  },
  {
   "cell_type": "code",
   "execution_count": 5,
   "metadata": {},
   "outputs": [],
   "source": [
    "static double MeasureNonThreadSafeQueue(int itemCount)\n",
    "    {\n",
    "        var queue = new Queue<int>();\n",
    "        var stopwatch = new Stopwatch();\n",
    "\n",
    "        stopwatch.Start();\n",
    "        for (int i = 0; i < itemCount; i++)\n",
    "        {\n",
    "            queue.Enqueue(i);\n",
    "        }\n",
    "        for (int i = 0; i < itemCount; i++)\n",
    "        {\n",
    "            queue.Dequeue();\n",
    "        }\n",
    "        stopwatch.Stop();\n",
    "\n",
    "        return stopwatch.Elapsed.TotalMilliseconds;\n",
    "    }"
   ]
  },
  {
   "cell_type": "code",
   "execution_count": 6,
   "metadata": {},
   "outputs": [],
   "source": [
    "        const int itemCount = 1000000;\n",
    "        const int iterations = 10;\n",
    "\n",
    "        var blockingCollectionTimes = new List<double>();\n",
    "        var concurrentQueueTimes = new List<double>();\n",
    "        var nonThreadSafeQueueTimes = new List<double>();\n",
    "\n",
    "        for (int i = 0; i < iterations; i++)\n",
    "        {\n",
    "            blockingCollectionTimes.Add(MeasureBlockingCollection(itemCount));\n",
    "            concurrentQueueTimes.Add(MeasureConcurrentQueue(itemCount));\n",
    "            nonThreadSafeQueueTimes.Add(MeasureNonThreadSafeQueue(itemCount));\n",
    "        }\n"
   ]
  },
  {
   "cell_type": "code",
   "execution_count": 7,
   "metadata": {},
   "outputs": [],
   "source": [
    "var fastCollection = Math.Min(blockingCollectionTimes.Average(), concurrentQueueTimes.Average());\n",
    "var ProcentSootnoshenie = (100 * fastCollection) / nonThreadSafeQueueTimes.Average();\n"
   ]
  },
  {
   "cell_type": "code",
   "execution_count": 8,
   "metadata": {},
   "outputs": [
    {
     "name": "stdout",
     "output_type": "stream",
     "text": [
      "BlockingCollection average time: 417.53141000000005 ms\n",
      "ConcurrentQueue average time: 29.134949999999996 ms\n",
      "Non-thread-safe Queue average time: 24.340549999999997 ms\n",
      "Столько процентов составляет самая быстрая коллекция от nonThreadSafeQueueTimes: 119.6971720030977%\n"
     ]
    },
    {
     "data": {
      "text/html": [
       "<img src=\"data:image/png;base64,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\"></img>"
      ]
     },
     "metadata": {},
     "output_type": "display_data"
    }
   ],
   "source": [
    "Console.WriteLine(\"BlockingCollection average time: \" + blockingCollectionTimes.Average() + \" ms\");\n",
    "        Console.WriteLine(\"ConcurrentQueue average time: \" + concurrentQueueTimes.Average() + \" ms\");\n",
    "        Console.WriteLine(\"Non-thread-safe Queue average time: \" + nonThreadSafeQueueTimes.Average() + \" ms\");\n",
    "        Console.WriteLine(\"Столько процентов составляет самая быстрая коллекция от nonThreadSafeQueueTimes\" + \": \" + ProcentSootnoshenie + \"%\");\n",
    "        ScottPlot.Plot plt = new();\n",
    "\n",
    "        plt.Add.Signal(blockingCollectionTimes);\n",
    "        plt.Add.Signal(concurrentQueueTimes);\n",
    "        plt.Add.Signal(nonThreadSafeQueueTimes);\n",
    "        plt.Axes.SetLimits(0,9);\n",
    "        plt.SavePng(\"graph.png\", 600, 600);\n",
    "        plt"
   ]
  }
 ],
 "metadata": {
  "kernelspec": {
   "display_name": ".NET (C#)",
   "language": "C#",
   "name": ".net-csharp"
  },
  "polyglot_notebook": {
   "kernelInfo": {
    "defaultKernelName": "csharp",
    "items": [
     {
      "aliases": [],
      "languageName": "csharp",
      "name": "csharp"
     }
    ]
   }
  }
 },
 "nbformat": 4,
 "nbformat_minor": 2
}
