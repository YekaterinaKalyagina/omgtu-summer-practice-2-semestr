{
 "cells": [
  {
   "cell_type": "code",
   "execution_count": 1,
   "metadata": {
    "dotnet_interactive": {
     "language": "csharp"
    },
    "polyglot_notebook": {
     "kernelName": "csharp"
    }
   },
   "outputs": [
    {
     "data": {
      "text/html": [
       "<div><div></div><div></div><div><strong>Installed Packages</strong><ul><li><span>xunit, 2.8.1</span></li></ul></div></div>"
      ]
     },
     "metadata": {},
     "output_type": "display_data"
    }
   ],
   "source": [
    "\n",
    "#r \"nuget: xunit, 2.8.1\"\n",
    "using System.Threading;\n",
    "using Xunit;\n",
    "\n",
    "class Message\n",
    "{\n",
    "    static int messageHandled = 0;\n",
    "    int id;\n",
    "    public Message()\n",
    "    {\n",
    "        id = Thread.CurrentThread.ManagedThreadId;\n",
    "    }\n",
    "\n",
    "    public void Handle()\n",
    "    {\n",
    "        Interlocked.Increment(ref messageHandled);\n",
    "        Assert.NotEqual(id, Thread.CurrentThread.ManagedThreadId);\n",
    "    }\n",
    "\n",
    "    public static void Check()\n",
    "    {\n",
    "        Assert.Equal(200, messageHandled);\n",
    "    }\n",
    "}\n",
    "\n"
   ]
  },
  {
   "cell_type": "code",
   "execution_count": 2,
   "metadata": {},
   "outputs": [],
   "source": [
    "using System.Collections.Concurrent;\n",
    "using System.Threading;\n",
    "using System.Threading.Tasks;\n",
    "\n",
    "var ocher1 = new BlockingCollection<Message>(2); //очередь первого потока\n",
    "var ocher2 = new BlockingCollection<Message>(2); //очередь второго потока\n",
    "\n",
    "\n",
    "// Создаем два потока\n",
    "var potoc1 = new Thread(() =>\n",
    "{\n",
    "   \n",
    "    for (int i = 0; i < 100; i++)\n",
    "    {\n",
    "        // Читаем сообщение из очереди первого потока\n",
    "        var message = ocher1.Take();\n",
    "        // Обрабатываем сообщение\n",
    "        message.Handle();\n",
    "       \n",
    "       \n",
    "        {\n",
    "            var newMessage = new Message();\n",
    "            ocher2.Add(newMessage);\n",
    "        }\n",
    "    }\n",
    "    \n",
    "});\n",
    "var potoc2 = new Thread(() =>\n",
    "{ int handled2=0;\n",
    "    for (int i = 0; i < 100; i++)\n",
    "    {\n",
    "        // Читаем сообщение из очереди второго потока\n",
    "        var message = ocher2.Take();\n",
    "        // Обрабатываем сообщение\n",
    "        message.Handle();\n",
    "        handled2++;\n",
    "        // Создаем новое сообщение и записываем его в очередь первого потока\n",
    "        if(handled2!=100)\n",
    "        {\n",
    "            var newMessage = new Message();\n",
    "            ocher1.Add(newMessage);\n",
    "        }\n",
    "       \n",
    "        \n",
    "    }\n",
    "    \n",
    "});\n",
    "// Создаем первое сообщение и записываем его в очередь первого потока\n",
    "var firstMessage = new Message();\n",
    "ocher1.Add(firstMessage);\n",
    "\n",
    "// Запускаем потоки\n",
    "potoc1.Start();\n",
    "potoc2.Start();\n",
    "\n",
    "// Дожидаемся завершения работы потоков\n",
    "Parallel.Invoke(()=>\n",
    "{\n",
    "    potoc1.Join();\n",
    "},\n",
    "()=>\n",
    "{\n",
    "    potoc2.Join();\n",
    "}\n",
    ");\n"
   ]
  },
  {
   "cell_type": "code",
   "execution_count": 3,
   "metadata": {},
   "outputs": [],
   "source": [
    "Assert.Equal(0, ocher1.Count);\n",
    "Assert.Equal(0, ocher2.Count);\n",
    "Message.Check();"
   ]
  }
 ],
 "metadata": {
  "kernelspec": {
   "display_name": ".NET (C#)",
   "language": "C#",
   "name": ".net-csharp"
  },
  "polyglot_notebook": {
   "kernelInfo": {
    "defaultKernelName": "csharp",
    "items": [
     {
      "aliases": [],
      "languageName": "csharp",
      "name": "csharp"
     }
    ]
   }
  }
 },
 "nbformat": 4,
 "nbformat_minor": 2
}
